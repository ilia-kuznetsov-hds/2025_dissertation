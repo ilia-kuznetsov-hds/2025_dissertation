{
 "cells": [
  {
   "cell_type": "code",
   "execution_count": 1,
   "id": "b14d66b3",
   "metadata": {},
   "outputs": [],
   "source": [
    "import pandas as pd"
   ]
  },
  {
   "cell_type": "code",
   "execution_count": 5,
   "id": "6fd69e67",
   "metadata": {},
   "outputs": [],
   "source": [
    "QUESTION_FILE_MISTRAL = r\"C:\\\\Users\\\\kuzne\\\\Documents\\\\Python_repo\\\\2025_01_dissertation\\\\2025_dissertation\\\\data\\\\2025-06 02.06.2025 dataset for evaluation\\\\psychiatry_train_dataset_groq_mistral-saba-24b_answered.csv\"\n",
    "QUESTION_FILE_MISTRAL_OUTPUT = r\"C:\\\\Users\\\\kuzne\\\\Documents\\\\Python_repo\\\\2025_01_dissertation\\\\2025_dissertation\\\\data\\\\2025-06 02.06.2025 dataset for evaluation\\\\psychiatry_train_dataset_groq_mistral-saba-24b_answered_filtered.csv\""
   ]
  },
  {
   "cell_type": "code",
   "execution_count": 3,
   "id": "46193190",
   "metadata": {},
   "outputs": [],
   "source": [
    "df = pd.read_csv(QUESTION_FILE_MISTRAL)"
   ]
  },
  {
   "cell_type": "code",
   "execution_count": 4,
   "id": "30a5fe44",
   "metadata": {},
   "outputs": [],
   "source": [
    "# Set columns to None where 'Generated Vanilla Answer' is 'error'\n",
    "mask = df['Generated Vanilla Answer'] == 'error'\n",
    "df.loc[mask, ['Generated Vanilla Answer', 'Generated RAG Answer', 'Retrieved Context', 'Top K', 'Status']] = None"
   ]
  },
  {
   "cell_type": "code",
   "execution_count": 6,
   "id": "ed095c5d",
   "metadata": {},
   "outputs": [],
   "source": [
    "df.to_csv(QUESTION_FILE_MISTRAL_OUTPUT, index=False)"
   ]
  }
 ],
 "metadata": {
  "kernelspec": {
   "display_name": ".venv",
   "language": "python",
   "name": "python3"
  },
  "language_info": {
   "codemirror_mode": {
    "name": "ipython",
    "version": 3
   },
   "file_extension": ".py",
   "mimetype": "text/x-python",
   "name": "python",
   "nbconvert_exporter": "python",
   "pygments_lexer": "ipython3",
   "version": "3.12.9"
  }
 },
 "nbformat": 4,
 "nbformat_minor": 5
}
