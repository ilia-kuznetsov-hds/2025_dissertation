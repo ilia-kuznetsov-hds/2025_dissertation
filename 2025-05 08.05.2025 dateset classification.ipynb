{
 "cells": [
  {
   "cell_type": "markdown",
   "id": "0ffdd379",
   "metadata": {},
   "source": [
    "The purpose of that notebook is to add classification column to the dataset.   \n",
    "We provide the LLM with a question and related answer and ask it to classify the topic. "
   ]
  }
 ],
 "metadata": {
  "language_info": {
   "name": "python"
  }
 },
 "nbformat": 4,
 "nbformat_minor": 5
}
