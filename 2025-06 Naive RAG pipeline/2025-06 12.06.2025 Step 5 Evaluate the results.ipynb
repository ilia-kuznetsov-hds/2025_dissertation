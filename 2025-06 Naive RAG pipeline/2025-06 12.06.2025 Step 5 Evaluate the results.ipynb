{
 "cells": [
  {
   "cell_type": "code",
   "execution_count": 1,
   "id": "48f6088e",
   "metadata": {},
   "outputs": [],
   "source": [
    "import pandas as pd"
   ]
  },
  {
   "cell_type": "code",
   "execution_count": 2,
   "id": "d7ad1ede",
   "metadata": {},
   "outputs": [],
   "source": [
    "RAG = r\"C:\\\\Users\\\\kuzne\\\\Documents\\\\Python_repo\\\\2025_01_dissertation\\\\2025_dissertation\\\\data\\\\2025-06 02.06.2025 dataset for evaluation\\\\psychiatry_train_dataset_groq_mistral-saba-24b_answered_rag_answer_correctness_evaluated.csv\""
   ]
  },
  {
   "cell_type": "code",
   "execution_count": 3,
   "id": "c57fda73",
   "metadata": {},
   "outputs": [],
   "source": [
    "VANILLA = r\"C:\\\\Users\\\\kuzne\\\\Documents\\\\Python_repo\\\\2025_01_dissertation\\\\2025_dissertation\\\\data\\\\2025-06 02.06.2025 dataset for evaluation\\\\psychiatry_train_dataset_groq_mistral-saba-24b_answered_vanilla_answer_correctness_evaluated.csv\""
   ]
  },
  {
   "cell_type": "code",
   "execution_count": 4,
   "id": "06f288f5",
   "metadata": {},
   "outputs": [
    {
     "name": "stdout",
     "output_type": "stream",
     "text": [
      "RAG Mean Answer Correctness: 0.4123253574398246\n",
      "Vanilla Mean Answer Correctness: 0.4220597875819323\n"
     ]
    }
   ],
   "source": [
    "# Read the files\n",
    "rag_df = pd.read_csv(RAG)  # Replace with actual filename\n",
    "vanilla_df = pd.read_csv(VANILLA)  # Replace with actual filename\n",
    "\n",
    "# Calculate means\n",
    "rag_mean = rag_df['Mean Answer Correctness for RAG'].mean()\n",
    "vanilla_mean = vanilla_df['Mean Answer Correctness for vanilla'].mean()\n",
    "\n",
    "print(f\"RAG Mean Answer Correctness: {rag_mean}\")\n",
    "print(f\"Vanilla Mean Answer Correctness: {vanilla_mean}\")"
   ]
  },
  {
   "cell_type": "markdown",
   "id": "162b737f",
   "metadata": {},
   "source": [
    "The very first results were:  \n",
    "RAG Mean Answer Correctness: 0.4123253574398246\n",
    "Vanilla Mean Answer Correctness: 0.4220597875819323  \n",
    "\n",
    "Addition of Naive RAG deteriorates the answer quality. \n"
   ]
  }
 ],
 "metadata": {
  "kernelspec": {
   "display_name": ".venv",
   "language": "python",
   "name": "python3"
  },
  "language_info": {
   "codemirror_mode": {
    "name": "ipython",
    "version": 3
   },
   "file_extension": ".py",
   "mimetype": "text/x-python",
   "name": "python",
   "nbconvert_exporter": "python",
   "pygments_lexer": "ipython3",
   "version": "3.12.9"
  }
 },
 "nbformat": 4,
 "nbformat_minor": 5
}
