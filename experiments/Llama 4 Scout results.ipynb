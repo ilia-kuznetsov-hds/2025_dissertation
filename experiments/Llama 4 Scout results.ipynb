{
 "cells": [
  {
   "cell_type": "code",
   "execution_count": null,
   "id": "e712d7a7",
   "metadata": {},
   "outputs": [],
   "source": [
    "import pandas as pd\n",
    "import json\n",
    "import os"
   ]
  },
  {
   "cell_type": "code",
   "execution_count": null,
   "id": "df23bbb9",
   "metadata": {},
   "outputs": [],
   "source": [
    "def process_files(file_name):\n",
    "    # Remove the .json extension to get the base name\n",
    "    base_name = file_name.replace('.json', '')\n",
    "\n",
    "    VANILLA_ANSWER_CORRECTNESS = f\"experiments\\\\{base_name}_vanilla_answer_correctness_evaluated.json\"\n",
    "    RAG_ANSWER_CORRECTNESS = f\"experiments\\\\{base_name}_rag_answer_correctness_evaluated.json\"\n",
    "    RAG_ANSWER_SIMILARITY = f\"experiments\\\\{base_name}_rag_answer_similarity_evaluated.json\"\n",
    "    RAG_ANSWER_RELEVANCY = f\"experiments\\\\{base_name}_rag_answer_relevancy_evaluated.json\"\n",
    "    RAG_FAITHFULNESS = f\"experiments\\\\{base_name}_rag_answer_faithfulness_evaluated.json\"\n",
    "\n",
    "    with open(VANILLA_ANSWER_CORRECTNESS, 'r', encoding='utf-8') as f:\n",
    "            data = json.load(f)\n",
    "        \n",
    "        df = pd.DataFrame(data)\n",
    "    \n",
    "    print(df.head(5))\n",
    "    \n",
    "   \n",
    "\n",
    "\n",
    "\n",
    "    \n"
   ]
  }
 ],
 "metadata": {
  "kernelspec": {
   "display_name": ".venv",
   "language": "python",
   "name": "python3"
  },
  "language_info": {
   "codemirror_mode": {
    "name": "ipython",
    "version": 3
   },
   "file_extension": ".py",
   "mimetype": "text/x-python",
   "name": "python",
   "nbconvert_exporter": "python",
   "pygments_lexer": "ipython3",
   "version": "3.12.10"
  }
 },
 "nbformat": 4,
 "nbformat_minor": 5
}
