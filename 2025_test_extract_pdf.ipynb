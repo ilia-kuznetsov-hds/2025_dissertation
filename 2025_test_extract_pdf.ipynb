{
 "cells": [
  {
   "cell_type": "code",
   "execution_count": null,
   "metadata": {},
   "outputs": [],
   "source": [
    "import os\n",
    "import pdfplumber\n",
    "import re\n",
    "\n",
    "\n",
    "TEST_PDF_PATH = r\"C:\\\\Users\\\\User\\\\Desktop\\\\test_path\\\\2025 Journal article Toward expert-level medical question answering with LLMs.pdf\"\n",
    "\n",
    "OUTPUT_PATH = r\"C:\\\\Users\\\\User\\\\Desktop\\\\test_path\""
   ]
  },
  {
   "cell_type": "code",
   "execution_count": 4,
   "metadata": {},
   "outputs": [],
   "source": [
    "def pdf_to_text_file(pdf_file_path, output_file_path):\n",
    "    \"\"\"\n",
    "    Extracts text from a PDF file and writes it to a text file with basic formatting.\n",
    "    \n",
    "    :param pdf_file_path: The path to the PDF file to be processed.\n",
    "    :param output_file_path: The path where the extracted text file will be stored.\n",
    "    \"\"\"\n",
    "    \n",
    "    # Ensure the PDF file exists\n",
    "    if not os.path.isfile(pdf_file_path):\n",
    "        raise FileNotFoundError(f\"PDF file not found: {pdf_file_path}\")\n",
    "\n",
    "    with pdfplumber.open(pdf_file_path) as pdf:\n",
    "        # Prepare a list to hold all extracted text from all pages\n",
    "        all_text = []\n",
    "        \n",
    "        for page_number, page in enumerate(pdf.pages, start=1):\n",
    "            page_text = page.extract_text()\n",
    "            \n",
    "            if page_text:\n",
    "                page_text = page_text.strip()\n",
    "                page_text = re.sub(r'\\r\\n', '\\n', page_text)  # normalize line breaks\n",
    "                page_text = re.sub(r'\\n\\s*\\n+', '\\n\\n', page_text)  # ensure double newlines stay as paragraphs\n",
    "                page_text = re.sub(r'[ \\t]+', ' ', page_text)  # convert multiple spaces/tabs to single space\n",
    "                \n",
    "                # Add a header or footer for clarity (optional)\n",
    "                formatted_text = f\"--- Page {page_number} ---\\n{page_text}\\n\"\n",
    "                \n",
    "                # Append to the list\n",
    "                all_text.append(formatted_text)\n",
    "            else:\n",
    "                # In case a page has no extractable text\n",
    "                all_text.append(f\"--- Page {page_number} ---\\n[No text found on this page]\\n\")\n",
    "    \n",
    "    # Join all text with double newlines or single newline\n",
    "    # (Adjust this based on how you want the final file formatted)\n",
    "    final_text = \"\\n\\n\".join(all_text)\n",
    "    \n",
    "    # Write the output to a text file\n",
    "    with open(output_file_path, 'w', encoding='utf-8') as f:\n",
    "        f.write(final_text)"
   ]
  },
  {
   "cell_type": "code",
   "execution_count": 5,
   "metadata": {},
   "outputs": [],
   "source": [
    "pdf_to_text_file(TEST_PDF_PATH, os.path.join(OUTPUT_PATH, \"output.txt\"))"
   ]
  },
  {
   "cell_type": "code",
   "execution_count": null,
   "metadata": {},
   "outputs": [],
   "source": [
    "def extract_pdf_alternative(pdf_input_path, pdf_output_path):\n",
    "    "
   ]
  },
  {
   "cell_type": "code",
   "execution_count": null,
   "metadata": {},
   "outputs": [],
   "source": [
    "def convert_folder(folder_path, output_folder):\n",
    "    for article in os.listdir(folder_path):\n",
    "        if article.endswith(\".pdf\"):\n",
    "            pdf_path = os.path.join(folder_path, article) \n",
    "            convert_pdf_to_text(pdf_path, output_folder)"
   ]
  }
 ],
 "metadata": {
  "kernelspec": {
   "display_name": ".venv",
   "language": "python",
   "name": "python3"
  },
  "language_info": {
   "codemirror_mode": {
    "name": "ipython",
    "version": 3
   },
   "file_extension": ".py",
   "mimetype": "text/x-python",
   "name": "python",
   "nbconvert_exporter": "python",
   "pygments_lexer": "ipython3",
   "version": "3.12.5"
  }
 },
 "nbformat": 4,
 "nbformat_minor": 2
}
