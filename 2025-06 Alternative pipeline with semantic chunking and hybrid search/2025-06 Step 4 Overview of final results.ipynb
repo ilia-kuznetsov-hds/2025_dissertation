{
 "cells": [
  {
   "cell_type": "markdown",
   "id": "8bc699af",
   "metadata": {},
   "source": [
    "Overwiew of the results: "
   ]
  },
  {
   "cell_type": "markdown",
   "id": "fffa1d96",
   "metadata": {},
   "source": [
    "Model:  \n",
    "Mistral Saba 24B "
   ]
  },
  {
   "cell_type": "markdown",
   "id": "87a4a6fe",
   "metadata": {},
   "source": [
    "Llama 3.2 3B Instruct Turbo"
   ]
  },
  {
   "cell_type": "markdown",
   "id": "0d09e182",
   "metadata": {},
   "source": [
    "Meta LLama 4 Maverick 17b 128e Instruct"
   ]
  }
 ],
 "metadata": {
  "language_info": {
   "name": "python"
  }
 },
 "nbformat": 4,
 "nbformat_minor": 5
}
