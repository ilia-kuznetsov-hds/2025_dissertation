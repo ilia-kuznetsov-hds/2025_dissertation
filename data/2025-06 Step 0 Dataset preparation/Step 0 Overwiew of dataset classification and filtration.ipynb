{
 "cells": [
  {
   "cell_type": "code",
   "execution_count": 1,
   "id": "8debd8c8",
   "metadata": {},
   "outputs": [],
   "source": [
    "import pandas as pd\n",
    "import json"
   ]
  },
  {
   "cell_type": "markdown",
   "id": "b0681d0a",
   "metadata": {},
   "source": [
    "We use MedQA-Open dataset from the paper \"Few shot chain-of-thought driven reasoning to prompt LLMs for open ended medical question answering\"  \n",
    "The dataset available at (ancillary files setion):  \n",
    "https://arxiv.org/abs/2403.04890  \n",
    "\n",
    "The author of the paper used the USMLE-MedQA dataset (Jin et al., 2021), a medical exam dataset that consists of questions   \n",
    "sourced from professional medical board exams in the USA.  \n",
    "\n",
    "\n",
    "The authors used the MedQA dataset (Zhang et al., 2018) is a publicly available collection of complex medical questions  \n",
    "with multiple choices based on the United States medical license exams. To emulate real-world medical scenarios,   \n",
    "they convert these multiple-choice questions into open-ended questions by (1) removing the multiple-choice options and   \n",
    "(2) re-pharsing the question to be open-ended using LLM, creating MedQA-Open.   \n",
    "\n",
    "The dataset contains more than 10k questions related to different medical fields, including psychiatry.   \n",
    "The following script uses LLM to classify questions as psychiatry-related or not psychiatry-related.  \n",
    "It is a screening step that uses fast cost-efficient LLM to filter out non-psychiatry questions   \n",
    "before using more expensive LLMs for detailed analysis.  "
   ]
  },
  {
   "cell_type": "code",
   "execution_count": 2,
   "id": "57e3c7ff",
   "metadata": {},
   "outputs": [
    {
     "name": "stdout",
     "output_type": "stream",
     "text": [
      "10178 rows in the original dataset\n"
     ]
    }
   ],
   "source": [
    "ORIGINAL_DATASET_PATH = \"MedQA_open_dataset.xlsx\"\n",
    "original_df = pd.read_excel(ORIGINAL_DATASET_PATH)\n",
    "print(len(original_df), \"rows in the original dataset\")"
   ]
  },
  {
   "cell_type": "markdown",
   "id": "1e941326",
   "metadata": {},
   "source": [
    "I used used LLM (gemini 2.0 flash model) with rather simple prompt to screen for psychiatry-related questions. Google was used as provider of LLM since it gives generous Free-tier limit for experimenting with LLM:"
   ]
  },
  {
   "cell_type": "code",
   "execution_count": 3,
   "id": "dc4a77c7",
   "metadata": {},
   "outputs": [],
   "source": [
    "question = \"\"\n",
    "answer = \"\" # Just placeholders\n",
    "\n",
    "prompt = f\"\"\"\n",
    "    Question: {question}\n",
    "    Answer: {answer}\n",
    "    Is this question related to psychiatry? Respond with only 'psychiatry' or 'non-psychiatry'.\"\"\""
   ]
  },
  {
   "cell_type": "markdown",
   "id": "8ddd0f30",
   "metadata": {},
   "source": [
    "If either question or answer column was empty, we would classify question as invalid. We don't provide LLM with empty query."
   ]
  },
  {
   "cell_type": "code",
   "execution_count": 4,
   "id": "05cb58e0",
   "metadata": {},
   "outputs": [
    {
     "name": "stdout",
     "output_type": "stream",
     "text": [
      "10178 rows in the screened dataset\n"
     ]
    },
    {
     "data": {
      "text/plain": [
       "classification\n",
       "non-psychiatry    8780\n",
       "psychiatry         886\n",
       "invalid            512\n",
       "Name: count, dtype: int64"
      ]
     },
     "execution_count": 4,
     "metadata": {},
     "output_type": "execute_result"
    }
   ],
   "source": [
    "SCREENED_QUESTIONS_PATH = \"MedQA_open_dataset_classified.xlsx\"\n",
    "screened_df = pd.read_excel(SCREENED_QUESTIONS_PATH)\n",
    "print(len(screened_df), \"rows in the screened dataset\")\n",
    "screened_df[\"classification\"].value_counts()"
   ]
  },
  {
   "cell_type": "markdown",
   "id": "7feb7646",
   "metadata": {},
   "source": [
    "After initial screening, only 886 question were considered as psychiatry-related. However, the prompt was weak and model was selected due to speed rather than precision. A the next step we verified that question actually asks about psychiatry, not just mentions psychiatric concepts in the different cases vignettes. To do so, we prompted a newer model gemini 2.5 flash with the folllowing prompt:"
   ]
  },
  {
   "cell_type": "code",
   "execution_count": 5,
   "id": "c1f4313a",
   "metadata": {},
   "outputs": [],
   "source": [
    "prompt = f\"\"\"\n",
    "    Act as an experienced clinical psychiatrist and medical educator. \n",
    "\n",
    "    Question: {question}\n",
    "\n",
    "    Evaluate provided question and reasoning based on the following criteria:\n",
    "\n",
    "    CLINICAL PSYCHIATRY FOCUS: Is this question primarily testing knowledge of clinical psychiatry, mental health disorders, psychiatric treatments, or psychological concepts? \n",
    "    - Questions that merely mention mental health terms but primarily test other medical knowledge (like diabetes, cardiology, etc.) should be excluded\n",
    "    - Questions should focus on psychiatric diagnosis, treatment, symptoms, or mental health concepts as the main learning objective\n",
    "\n",
    "    Provide your response in the following JSON format:\n",
    "    {{\n",
    "        \"classification\": \"INCLUDE\" or \"EXCLUDE\",\n",
    "        \"reasoning\": \"Brief explanation of why you included or excluded this question\"\n",
    "    }}\n",
    "\n",
    "    Classification options:\n",
    "    - \"INCLUDE\" if the question is primarily focused on clinical psychiatry AND the reasoning is useful\n",
    "    - \"EXCLUDE\" if the first criteria fail\n",
    "    \"\"\""
   ]
  },
  {
   "cell_type": "code",
   "execution_count": 6,
   "id": "e0e256c2",
   "metadata": {},
   "outputs": [
    {
     "name": "stdout",
     "output_type": "stream",
     "text": [
      "Classification value counts:\n",
      "psychiatry_classification\n",
      "include    737\n",
      "exclude    147\n",
      "re-do        2\n",
      "Name: count, dtype: int64\n"
     ]
    }
   ],
   "source": [
    "with open(\"MedQA_open_dataset_classified_psychiatry_evaluation.json\", 'r', encoding='utf-8') as file:\n",
    "    data = json.load(file)\n",
    "\n",
    "verified_df = pd.DataFrame(data)\n",
    "print(\"Classification value counts:\")\n",
    "print(verified_df[\"psychiatry_classification\"].value_counts())\n"
   ]
  },
  {
   "cell_type": "markdown",
   "id": "946bf462",
   "metadata": {},
   "source": [
    "Overall, we have 737 psychiatry-related questions. Now we prompt an LLM with a task to classify psychiatric question into the one of categories. "
   ]
  },
  {
   "cell_type": "code",
   "execution_count": null,
   "id": "fd913342",
   "metadata": {
    "vscode": {
     "languageId": "markdown"
    }
   },
   "outputs": [],
   "source": [
    "prompt = f\"\"\"\n",
    "    Act as an experienced mental health specialist. Your task is to classify a provided psychiatric question.\n",
    "\n",
    "    Question: \"{question}\"\n",
    "\n",
    "    Instructions:\n",
    "    1. Carefully analyze the question to identify the mental health condition or disorder being discussed\n",
    "    2. Classify it into ONE of the following categories:\n",
    "       • Anxiety Disorders\n",
    "       • Bipolar Disorders  \n",
    "       • Depressive Disorders\n",
    "       • Dissociative Disorders\n",
    "       • Eating Disorders\n",
    "       • Obsessive-Compulsive Disorders\n",
    "       • Personality Disorders\n",
    "       • Schizophrenia Spectrum and Other Psychotic Disorders\n",
    "       • Somatic Disorders\n",
    "       • Trauma and Stressor Related Disorders\n",
    "       • Other Mental Disorders\n",
    "\n",
    "    3. Provide your response in the following JSON format:\n",
    "    {{\n",
    "        \"reasoning\": \"Brief explanation of why this question fits the selected category, including any key symptoms, conditions, or diagnostic criteria mentioned\",\n",
    "        \"category\": \"Selected category name exactly as listed above\",\n",
    "        \"confidence\": \"high/medium/low\"\n",
    "    }}\n",
    "\n",
    "    Important notes:\n",
    "    - If the question doesn't clearly fit into categories 1-10, use \"Other Mental Disorders\"\n",
    "    - Focus on the primary disorder being discussed\n",
    "    - Use exact category names as provided\n",
    "    - Be concise but thorough in your reasoning\n",
    "    \"\"\""
   ]
  },
  {
   "cell_type": "code",
   "execution_count": null,
   "id": "cba32546",
   "metadata": {},
   "outputs": [],
   "source": [
    "prompt = f\"\"\"\n",
    "    Act as an experienced mental health specialist. Your task is to classify a provided psychiatric question.\n",
    "\n",
    "    Question: \"{question}\"\n",
    "\n",
    "    Instructions:\n",
    "    1. Carefully analyze the question to identify the mental health condition or disorder being discussed\n",
    "    2. Classify it into ONE of the following categories:\n",
    "       • Anxiety Disorders\n",
    "       • Bipolar Disorders  \n",
    "       • Depressive Disorders\n",
    "       • Dissociative Disorders\n",
    "       • Eating Disorders\n",
    "       • Obsessive-Compulsive Disorders\n",
    "       • Personality Disorders\n",
    "       • Schizophrenia Spectrum and Other Psychotic Disorders\n",
    "       • Somatic Disorders\n",
    "       • Trauma and Stressor Related Disorders\n",
    "       • Other Mental Disorders\n",
    "\n",
    "    3. Provide your response in the following JSON format:\n",
    "    {{\n",
    "        \"reasoning\": \"Brief explanation of why this question fits the selected category, including any key symptoms, conditions, or diagnostic criteria mentioned\",\n",
    "        \"category\": \"Selected category name exactly as listed above\",\n",
    "        \"confidence\": \"high/medium/low\"\n",
    "    }}\n",
    "\n",
    "    Important notes:\n",
    "    - If the question doesn't clearly fit into categories 1-10, use \"Other Mental Disorders\"\n",
    "    - Focus on the primary disorder being discussed\n",
    "    - Use exact category names as provided\n",
    "    - Be concise but thorough in your reasoning\n",
    "    \"\"\""
   ]
  },
  {
   "cell_type": "code",
   "execution_count": 7,
   "id": "f21c9efc",
   "metadata": {},
   "outputs": [
    {
     "name": "stdout",
     "output_type": "stream",
     "text": [
      "Percentage of categories:\n",
      "Other Mental Disorders                    220 ( 29.9%)\n",
      "Depressive Disorders                      115 ( 15.6%)\n",
      "Schizophrenia Spectrum and Other Psychotic Disorders  107 ( 14.5%)\n",
      "Bipolar Disorders                          73 (  9.9%)\n",
      "Anxiety Disorders                          52 (  7.1%)\n",
      "Trauma and Stressor Related Disorders      50 (  6.8%)\n",
      "Personality Disorders                      45 (  6.1%)\n",
      "Eating Disorders                           24 (  3.3%)\n",
      "Somatic Disorders                          24 (  3.3%)\n",
      "Obsessive-Compulsive Disorders             22 (  3.0%)\n",
      "Dissociative Disorders                      5 (  0.7%)\n"
     ]
    }
   ],
   "source": [
    "with open(\"MedQA_open_dataset_classified_psychiatry_evaluation_with_categories.json\", 'r', encoding='utf-8') as file:\n",
    "    data = json.load(file)\n",
    "\n",
    "df_with_categories = pd.DataFrame(data)\n",
    "category_counts = df_with_categories[\"psychiatric_category\"].value_counts().to_dict()\n",
    "print(\"Percentage of categories:\")\n",
    "for category, count in category_counts.items():\n",
    "            percentage = (count / len(df_with_categories)) * 100\n",
    "            print(f\"{category:<40} {count:>4} ({percentage:>5.1f}%)\")\n",
    "\n"
   ]
  },
  {
   "cell_type": "markdown",
   "id": "93706c01",
   "metadata": {},
   "source": [
    "I need to split a dataset 50:50. One half will be used to produce final results; the other half will be additionally split to 30:20 to play with evaluation and tweak it a little. "
   ]
  },
  {
   "cell_type": "code",
   "execution_count": 8,
   "id": "e17baff8",
   "metadata": {},
   "outputs": [
    {
     "name": "stdout",
     "output_type": "stream",
     "text": [
      "Test dataset: 369\n",
      "Train dataset: 368\n",
      "Percentage of categories in test dataset:\n",
      "Other Mental Disorders                    114 ( 30.9%)\n",
      "Depressive Disorders                       62 ( 16.8%)\n",
      "Schizophrenia Spectrum and Other Psychotic Disorders   57 ( 15.4%)\n",
      "Bipolar Disorders                          33 (  8.9%)\n",
      "Trauma and Stressor Related Disorders      24 (  6.5%)\n",
      "Personality Disorders                      23 (  6.2%)\n",
      "Anxiety Disorders                          22 (  6.0%)\n",
      "Eating Disorders                           13 (  3.5%)\n",
      "Somatic Disorders                          10 (  2.7%)\n",
      "Obsessive-Compulsive Disorders             10 (  2.7%)\n",
      "Dissociative Disorders                      1 (  0.3%)\n"
     ]
    }
   ],
   "source": [
    "# Randomly shuffle and split the data 50:50\n",
    "from sklearn.model_selection import train_test_split\n",
    "\n",
    "# Set random_state for reproducibility\n",
    "train_dataset, test_dataset = train_test_split(df_with_categories, test_size=0.5, random_state=42)\n",
    "\n",
    "print(f\"Test dataset: {len(test_dataset)}\")\n",
    "print(f\"Train dataset: {len(train_dataset)}\")\n",
    "\n",
    "category_counts = test_dataset[\"psychiatric_category\"].value_counts().to_dict()\n",
    "print(\"Percentage of categories in test dataset:\")\n",
    "for category, count in category_counts.items():\n",
    "            percentage = (count / len(test_dataset)) * 100\n",
    "            print(f\"{category:<40} {count:>4} ({percentage:>5.1f}%)\")"
   ]
  },
  {
   "cell_type": "code",
   "execution_count": 9,
   "id": "a7a5f3cc",
   "metadata": {},
   "outputs": [],
   "source": [
    "data = test_dataset.to_dict('records')\n",
    "with open(\"test_dataset.json\", 'w', encoding='utf-8') as f:\n",
    "    json.dump(data, f, indent=2, ensure_ascii=False)"
   ]
  },
  {
   "cell_type": "code",
   "execution_count": 10,
   "id": "4b1925a3",
   "metadata": {},
   "outputs": [
    {
     "name": "stdout",
     "output_type": "stream",
     "text": [
      "Val dataset: 74\n",
      "Train dataset: 294\n",
      "Percentage of categories in val dataset:\n",
      "Other Mental Disorders                     25 ( 33.8%)\n",
      "Depressive Disorders                       13 ( 17.6%)\n",
      "Schizophrenia Spectrum and Other Psychotic Disorders    8 ( 10.8%)\n",
      "Trauma and Stressor Related Disorders       7 (  9.5%)\n",
      "Bipolar Disorders                           5 (  6.8%)\n",
      "Anxiety Disorders                           4 (  5.4%)\n",
      "Obsessive-Compulsive Disorders              3 (  4.1%)\n",
      "Eating Disorders                            3 (  4.1%)\n",
      "Personality Disorders                       3 (  4.1%)\n",
      "Somatic Disorders                           2 (  2.7%)\n",
      "Dissociative Disorders                      1 (  1.4%)\n",
      "********************************\n",
      "Percentage of categories in train dataset:\n",
      "Other Mental Disorders                     81 ( 27.6%)\n",
      "Schizophrenia Spectrum and Other Psychotic Disorders   42 ( 14.3%)\n",
      "Depressive Disorders                       40 ( 13.6%)\n",
      "Bipolar Disorders                          35 ( 11.9%)\n",
      "Anxiety Disorders                          26 (  8.8%)\n",
      "Personality Disorders                      19 (  6.5%)\n",
      "Trauma and Stressor Related Disorders      19 (  6.5%)\n",
      "Somatic Disorders                          12 (  4.1%)\n",
      "Obsessive-Compulsive Disorders              9 (  3.1%)\n",
      "Eating Disorders                            8 (  2.7%)\n",
      "Dissociative Disorders                      3 (  1.0%)\n"
     ]
    }
   ],
   "source": [
    "# Set random_state for reproducibility\n",
    "train_dataset, val_dataset = train_test_split(train_dataset, test_size=0.2, random_state=42)\n",
    "\n",
    "print(f\"Val dataset: {len(val_dataset)}\")\n",
    "print(f\"Train dataset: {len(train_dataset)}\")\n",
    "\n",
    "category_counts = val_dataset[\"psychiatric_category\"].value_counts().to_dict()\n",
    "print(\"Percentage of categories in val dataset:\")\n",
    "for category, count in category_counts.items():\n",
    "            percentage = (count / len(val_dataset)) * 100\n",
    "            print(f\"{category:<40} {count:>4} ({percentage:>5.1f}%)\")\n",
    "\n",
    "\n",
    "category_counts = train_dataset[\"psychiatric_category\"].value_counts().to_dict()\n",
    "print(\"********************************\")\n",
    "print(\"Percentage of categories in train dataset:\")\n",
    "for category, count in category_counts.items():\n",
    "            percentage = (count / len(train_dataset)) * 100\n",
    "            print(f\"{category:<40} {count:>4} ({percentage:>5.1f}%)\")"
   ]
  },
  {
   "cell_type": "code",
   "execution_count": 11,
   "id": "b2ad7551",
   "metadata": {},
   "outputs": [],
   "source": [
    "data = train_dataset.to_dict('records')\n",
    "with open(\"train_dataset.json\", 'w', encoding='utf-8') as f:\n",
    "    json.dump(data, f, indent=2, ensure_ascii=False)\n",
    "\n",
    "data = val_dataset.to_dict('records')\n",
    "with open(\"val_dataset.json\", 'w', encoding='utf-8') as f:\n",
    "    json.dump(data, f, indent=2, ensure_ascii=False)"
   ]
  }
 ],
 "metadata": {
  "kernelspec": {
   "display_name": ".venv",
   "language": "python",
   "name": "python3"
  },
  "language_info": {
   "codemirror_mode": {
    "name": "ipython",
    "version": 3
   },
   "file_extension": ".py",
   "mimetype": "text/x-python",
   "name": "python",
   "nbconvert_exporter": "python",
   "pygments_lexer": "ipython3",
   "version": "3.12.9"
  }
 },
 "nbformat": 4,
 "nbformat_minor": 5
}
