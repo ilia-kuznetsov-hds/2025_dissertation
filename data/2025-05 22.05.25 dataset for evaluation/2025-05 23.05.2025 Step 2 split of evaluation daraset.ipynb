{
 "cells": [
  {
   "cell_type": "markdown",
   "id": "4161257b",
   "metadata": {},
   "source": [
    "I need to split questions dataset 50:50. One half will go to produce final results. Other half will be additionally split to 30:20 to create with evaluation and tweak it a little. \n"
   ]
  },
  {
   "cell_type": "code",
   "execution_count": 1,
   "id": "1085d5a8",
   "metadata": {},
   "outputs": [],
   "source": [
    "import pandas as pd\n",
    "\n",
    "DATASET_PATH = r'C:\\\\Users\\\\kuzne\\\\Documents\\\\Python_repo\\\\2025_01_dissertation\\\\2025_dissertation\\\\data\\\\2025-05 22.05.25 dataset for evaluation\\\\MedQA_open_dataset_classified.xlsx'"
   ]
  },
  {
   "cell_type": "code",
   "execution_count": 2,
   "id": "a07a62bf",
   "metadata": {},
   "outputs": [],
   "source": [
    "df = pd.read_excel(DATASET_PATH)"
   ]
  },
  {
   "cell_type": "code",
   "execution_count": null,
   "id": "01cbcbd5",
   "metadata": {},
   "outputs": [
    {
     "name": "stdout",
     "output_type": "stream",
     "text": [
      "<class 'pandas.core.frame.DataFrame'>\n",
      "RangeIndex: 10178 entries, 0 to 10177\n",
      "Data columns (total 3 columns):\n",
      " #   Column              Non-Null Count  Dtype \n",
      "---  ------              --------------  ----- \n",
      " 0   Modified Questions  9666 non-null   object\n",
      " 1   Reasonings          10178 non-null  object\n",
      " 2   classification      8278 non-null   object\n",
      "dtypes: object(3)\n",
      "memory usage: 238.7+ KB\n"
     ]
    }
   ],
   "source": [
    "df.info()"
   ]
  },
  {
   "cell_type": "code",
   "execution_count": 4,
   "id": "53a63e2b",
   "metadata": {},
   "outputs": [
    {
     "data": {
      "text/plain": [
       "classification\n",
       "non-psychiatry    7120\n",
       "psychiatry         721\n",
       "invalid            437\n",
       "Name: count, dtype: int64"
      ]
     },
     "execution_count": 4,
     "metadata": {},
     "output_type": "execute_result"
    }
   ],
   "source": [
    "df[\"classification\"].value_counts()"
   ]
  },
  {
   "cell_type": "code",
   "execution_count": 5,
   "id": "13f2f34d",
   "metadata": {},
   "outputs": [
    {
     "name": "stdout",
     "output_type": "stream",
     "text": [
      "Total psychiatry records: 721\n"
     ]
    }
   ],
   "source": [
    "# Filter the dataset to only include psychiatry classification\n",
    "psychiatry_df = df[df[\"classification\"] == \"psychiatry\"].copy()\n",
    "\n",
    "# Check how many psychiatry records we have\n",
    "print(f\"Total psychiatry records: {len(psychiatry_df)}\")"
   ]
  },
  {
   "cell_type": "code",
   "execution_count": 7,
   "id": "8a3c40b4",
   "metadata": {},
   "outputs": [
    {
     "name": "stdout",
     "output_type": "stream",
     "text": [
      "First half size: 361\n",
      "Second half size: 360\n"
     ]
    }
   ],
   "source": [
    "# Randomly shuffle and split the data 50:50\n",
    "from sklearn.model_selection import train_test_split\n",
    "\n",
    "# Set random_state for reproducibility\n",
    "train_dataset, test_dataset = train_test_split(psychiatry_df, test_size=0.5, random_state=42)\n",
    "\n",
    "print(f\"First half size: {len(test_dataset)}\")\n",
    "print(f\"Second half size: {len(train_dataset)}\")"
   ]
  },
  {
   "cell_type": "code",
   "execution_count": 8,
   "id": "efa445c2",
   "metadata": {},
   "outputs": [],
   "source": [
    "# You can save these splits if needed\n",
    "train_dataset.to_csv(\"psychiatry_train_dataset.csv\", index=False)\n",
    "test_dataset.to_csv(\"psychiatry_test_dataset.csv\", index=False)"
   ]
  }
 ],
 "metadata": {
  "kernelspec": {
   "display_name": ".venv",
   "language": "python",
   "name": "python3"
  },
  "language_info": {
   "codemirror_mode": {
    "name": "ipython",
    "version": 3
   },
   "file_extension": ".py",
   "mimetype": "text/x-python",
   "name": "python",
   "nbconvert_exporter": "python",
   "pygments_lexer": "ipython3",
   "version": "3.12.9"
  }
 },
 "nbformat": 4,
 "nbformat_minor": 5
}
